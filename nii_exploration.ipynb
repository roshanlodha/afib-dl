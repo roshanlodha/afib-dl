{
 "cells": [
  {
   "cell_type": "code",
   "execution_count": 1,
   "id": "a74edc0f",
   "metadata": {},
   "outputs": [
    {
     "name": "stdout",
     "output_type": "stream",
     "text": [
      "Defaulting to user installation because normal site-packages is not writeable\n",
      "Requirement already satisfied: NiBabel in /home/lodhar/.local/lib/python3.11/site-packages (5.1.0)\n",
      "Requirement already satisfied: numpy>=1.19 in /home/lodhar/.local/lib/python3.11/site-packages (from NiBabel) (1.26.2)\n",
      "Requirement already satisfied: packaging>=17 in /opt/python/3.11.3/lib/python3.11/site-packages (from NiBabel) (23.1)\n",
      "\n",
      "\u001b[1m[\u001b[0m\u001b[34;49mnotice\u001b[0m\u001b[1;39;49m]\u001b[0m\u001b[39;49m A new release of pip is available: \u001b[0m\u001b[31;49m23.2.1\u001b[0m\u001b[39;49m -> \u001b[0m\u001b[32;49m23.3.1\u001b[0m\n",
      "\u001b[1m[\u001b[0m\u001b[34;49mnotice\u001b[0m\u001b[1;39;49m]\u001b[0m\u001b[39;49m To update, run: \u001b[0m\u001b[32;49mpip install --upgrade pip\u001b[0m\n"
     ]
    }
   ],
   "source": [
    "#!pip install NiBabel"
   ]
  },
  {
   "cell_type": "code",
   "execution_count": 4,
   "id": "f71c4298",
   "metadata": {},
   "outputs": [],
   "source": [
    "import os \n",
    "import sys\n",
    "\n",
    "import nibabel as nib\n",
    "import pandas as pd"
   ]
  },
  {
   "cell_type": "code",
   "execution_count": 11,
   "id": "7c909262",
   "metadata": {},
   "outputs": [
    {
     "data": {
      "text/plain": [
       "0    data/vandyniftibest/10407.nii.gz\n",
       "1    data/vandyniftibest/10411.nii.gz\n",
       "2    data/vandyniftibest/10415.nii.gz\n",
       "3    data/vandyniftibest/10422.nii.gz\n",
       "4    data/vandyniftibest/10461.nii.gz\n",
       "Name: best_nii_dir, dtype: object"
      ]
     },
     "execution_count": 11,
     "metadata": {},
     "output_type": "execute_result"
    }
   ],
   "source": [
    "vandy = pd.read_csv(\"./data/vanderbilt_ct_phenotype_2-14-23.csv\")\n",
    "vandy['best_nii_dir'] = 'data/vandyniftibest/' + vandy['study_id'].astype(str) + '.nii.gz'\n",
    "vandy['best_nii_dir'][:5]"
   ]
  },
  {
   "cell_type": "code",
   "execution_count": 12,
   "id": "8c2b4df4",
   "metadata": {},
   "outputs": [
    {
     "data": {
      "text/plain": [
       "nibabel.nifti1.Nifti1Image"
      ]
     },
     "execution_count": 12,
     "metadata": {},
     "output_type": "execute_result"
    }
   ],
   "source": [
    "nifti1 = nib.load(vandy['best_nii_dir'][0])\n",
    "# What is the type of this object?\n",
    "type(nifti1)"
   ]
  }
 ],
 "metadata": {
  "kernelspec": {
   "display_name": "Python 3 (ipykernel)",
   "language": "python",
   "name": "python3"
  },
  "language_info": {
   "codemirror_mode": {
    "name": "ipython",
    "version": 3
   },
   "file_extension": ".py",
   "mimetype": "text/x-python",
   "name": "python",
   "nbconvert_exporter": "python",
   "pygments_lexer": "ipython3",
   "version": "3.11.3"
  }
 },
 "nbformat": 4,
 "nbformat_minor": 5
}

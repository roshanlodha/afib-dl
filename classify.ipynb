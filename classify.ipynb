{
 "cells": [
  {
   "cell_type": "markdown",
   "id": "20be0515",
   "metadata": {},
   "source": [
    "# Introduction"
   ]
  },
  {
   "cell_type": "code",
   "execution_count": 1,
   "id": "893a4ef0",
   "metadata": {},
   "outputs": [],
   "source": [
    "import pandas as pd\n",
    "import numpy as np\n",
    "import matplotlib.pyplot as plt"
   ]
  },
  {
   "cell_type": "markdown",
   "id": "ac9d74b8",
   "metadata": {},
   "source": [
    "# Data Loading and Cleaning"
   ]
  },
  {
   "cell_type": "code",
   "execution_count": 2,
   "id": "a1de1356",
   "metadata": {},
   "outputs": [],
   "source": [
    "vandy = pd.read_csv(\"/home/lodhar/afib-dl/data/activated_vandy.csv\").drop(['Unnamed: 0', 'nifti_dir'], axis = 1)"
   ]
  },
  {
   "cell_type": "markdown",
   "id": "7f8e5d91",
   "metadata": {},
   "source": [
    "## Add Activations"
   ]
  },
  {
   "cell_type": "code",
   "execution_count": 3,
   "id": "54b94e63",
   "metadata": {},
   "outputs": [
    {
     "name": "stderr",
     "output_type": "stream",
     "text": [
      "/tmp/ipykernel_2457216/1933851363.py:3: DeprecationWarning: string or file could not be read to its end due to unmatched data; this will raise a ValueError in the future.\n",
      "  return np.fromstring(cleaned_string, sep=' ')\n"
     ]
    }
   ],
   "source": [
    "def convert_to_array(string_repr):\n",
    "    cleaned_string = string_repr.replace(\"[[\", \"\").replace(\"]]\", \"\").replace(\"\\n\", \"\")\n",
    "    return np.fromstring(cleaned_string, sep=' ')\n",
    "\n",
    "vandy['activations'] = vandy['activations'].apply(convert_to_array)"
   ]
  },
  {
   "cell_type": "code",
   "execution_count": 4,
   "id": "f6768ea2",
   "metadata": {},
   "outputs": [],
   "source": [
    "vandy['activations_shape'] = vandy['activations'].apply(lambda x: x.shape if isinstance(x, np.ndarray) else None)\n",
    "vandy = vandy[vandy['activations_shape'] == (512,)].drop(['activations_shape'], axis = 1)\n",
    "flattened_activations = np.array(vandy['activations'].tolist()).reshape(-1, 512)\n",
    "activations_df = pd.DataFrame(flattened_activations, columns=[f'activation_{i}' for i in range(512)])"
   ]
  },
  {
   "cell_type": "markdown",
   "id": "0adad684",
   "metadata": {},
   "source": [
    "## Data Processing"
   ]
  },
  {
   "cell_type": "code",
   "execution_count": 5,
   "id": "50d4c34d",
   "metadata": {},
   "outputs": [
    {
     "data": {
      "text/html": [
       "<div>\n",
       "<style scoped>\n",
       "    .dataframe tbody tr th:only-of-type {\n",
       "        vertical-align: middle;\n",
       "    }\n",
       "\n",
       "    .dataframe tbody tr th {\n",
       "        vertical-align: top;\n",
       "    }\n",
       "\n",
       "    .dataframe thead th {\n",
       "        text-align: right;\n",
       "    }\n",
       "</style>\n",
       "<table border=\"1\" class=\"dataframe\">\n",
       "  <thead>\n",
       "    <tr style=\"text-align: right;\">\n",
       "      <th></th>\n",
       "      <th>gender</th>\n",
       "      <th>pt_height</th>\n",
       "      <th>weight</th>\n",
       "      <th>htn</th>\n",
       "      <th>diabetes</th>\n",
       "      <th>chf</th>\n",
       "      <th>cad</th>\n",
       "      <th>stroke_tia</th>\n",
       "      <th>osa</th>\n",
       "      <th>creatinine</th>\n",
       "      <th>...</th>\n",
       "      <th>recurrence</th>\n",
       "      <th>cont_monitor</th>\n",
       "      <th>is_training</th>\n",
       "      <th>race_1</th>\n",
       "      <th>race_2</th>\n",
       "      <th>race_4</th>\n",
       "      <th>race_6</th>\n",
       "      <th>ethnicity_0</th>\n",
       "      <th>ethnicity_1</th>\n",
       "      <th>ethnicity_2</th>\n",
       "    </tr>\n",
       "  </thead>\n",
       "  <tbody>\n",
       "    <tr>\n",
       "      <th>0</th>\n",
       "      <td>1</td>\n",
       "      <td>182.9</td>\n",
       "      <td>88.30</td>\n",
       "      <td>1</td>\n",
       "      <td>0</td>\n",
       "      <td>1</td>\n",
       "      <td>0</td>\n",
       "      <td>1</td>\n",
       "      <td>0</td>\n",
       "      <td>0.82</td>\n",
       "      <td>...</td>\n",
       "      <td>0</td>\n",
       "      <td>1</td>\n",
       "      <td>False</td>\n",
       "      <td>False</td>\n",
       "      <td>False</td>\n",
       "      <td>True</td>\n",
       "      <td>False</td>\n",
       "      <td>False</td>\n",
       "      <td>True</td>\n",
       "      <td>False</td>\n",
       "    </tr>\n",
       "    <tr>\n",
       "      <th>1</th>\n",
       "      <td>0</td>\n",
       "      <td>175.3</td>\n",
       "      <td>112.90</td>\n",
       "      <td>1</td>\n",
       "      <td>1</td>\n",
       "      <td>0</td>\n",
       "      <td>0</td>\n",
       "      <td>0</td>\n",
       "      <td>0</td>\n",
       "      <td>0.89</td>\n",
       "      <td>...</td>\n",
       "      <td>0</td>\n",
       "      <td>0</td>\n",
       "      <td>False</td>\n",
       "      <td>False</td>\n",
       "      <td>False</td>\n",
       "      <td>True</td>\n",
       "      <td>False</td>\n",
       "      <td>False</td>\n",
       "      <td>True</td>\n",
       "      <td>False</td>\n",
       "    </tr>\n",
       "    <tr>\n",
       "      <th>2</th>\n",
       "      <td>1</td>\n",
       "      <td>179.1</td>\n",
       "      <td>110.22</td>\n",
       "      <td>1</td>\n",
       "      <td>0</td>\n",
       "      <td>0</td>\n",
       "      <td>1</td>\n",
       "      <td>0</td>\n",
       "      <td>0</td>\n",
       "      <td>0.78</td>\n",
       "      <td>...</td>\n",
       "      <td>0</td>\n",
       "      <td>1</td>\n",
       "      <td>False</td>\n",
       "      <td>False</td>\n",
       "      <td>False</td>\n",
       "      <td>True</td>\n",
       "      <td>False</td>\n",
       "      <td>False</td>\n",
       "      <td>True</td>\n",
       "      <td>False</td>\n",
       "    </tr>\n",
       "    <tr>\n",
       "      <th>3</th>\n",
       "      <td>0</td>\n",
       "      <td>165.0</td>\n",
       "      <td>145.00</td>\n",
       "      <td>1</td>\n",
       "      <td>0</td>\n",
       "      <td>0</td>\n",
       "      <td>0</td>\n",
       "      <td>0</td>\n",
       "      <td>1</td>\n",
       "      <td>0.76</td>\n",
       "      <td>...</td>\n",
       "      <td>0</td>\n",
       "      <td>0</td>\n",
       "      <td>True</td>\n",
       "      <td>False</td>\n",
       "      <td>False</td>\n",
       "      <td>True</td>\n",
       "      <td>False</td>\n",
       "      <td>False</td>\n",
       "      <td>True</td>\n",
       "      <td>False</td>\n",
       "    </tr>\n",
       "    <tr>\n",
       "      <th>4</th>\n",
       "      <td>1</td>\n",
       "      <td>183.0</td>\n",
       "      <td>86.00</td>\n",
       "      <td>0</td>\n",
       "      <td>0</td>\n",
       "      <td>0</td>\n",
       "      <td>0</td>\n",
       "      <td>0</td>\n",
       "      <td>0</td>\n",
       "      <td>1.04</td>\n",
       "      <td>...</td>\n",
       "      <td>0</td>\n",
       "      <td>0</td>\n",
       "      <td>False</td>\n",
       "      <td>False</td>\n",
       "      <td>False</td>\n",
       "      <td>True</td>\n",
       "      <td>False</td>\n",
       "      <td>False</td>\n",
       "      <td>True</td>\n",
       "      <td>False</td>\n",
       "    </tr>\n",
       "    <tr>\n",
       "      <th>...</th>\n",
       "      <td>...</td>\n",
       "      <td>...</td>\n",
       "      <td>...</td>\n",
       "      <td>...</td>\n",
       "      <td>...</td>\n",
       "      <td>...</td>\n",
       "      <td>...</td>\n",
       "      <td>...</td>\n",
       "      <td>...</td>\n",
       "      <td>...</td>\n",
       "      <td>...</td>\n",
       "      <td>...</td>\n",
       "      <td>...</td>\n",
       "      <td>...</td>\n",
       "      <td>...</td>\n",
       "      <td>...</td>\n",
       "      <td>...</td>\n",
       "      <td>...</td>\n",
       "      <td>...</td>\n",
       "      <td>...</td>\n",
       "      <td>...</td>\n",
       "    </tr>\n",
       "    <tr>\n",
       "      <th>418</th>\n",
       "      <td>1</td>\n",
       "      <td>175.0</td>\n",
       "      <td>75.00</td>\n",
       "      <td>1</td>\n",
       "      <td>1</td>\n",
       "      <td>1</td>\n",
       "      <td>1</td>\n",
       "      <td>0</td>\n",
       "      <td>0</td>\n",
       "      <td>1.80</td>\n",
       "      <td>...</td>\n",
       "      <td>1</td>\n",
       "      <td>1</td>\n",
       "      <td>False</td>\n",
       "      <td>False</td>\n",
       "      <td>False</td>\n",
       "      <td>True</td>\n",
       "      <td>False</td>\n",
       "      <td>False</td>\n",
       "      <td>True</td>\n",
       "      <td>False</td>\n",
       "    </tr>\n",
       "    <tr>\n",
       "      <th>419</th>\n",
       "      <td>1</td>\n",
       "      <td>180.3</td>\n",
       "      <td>127.00</td>\n",
       "      <td>1</td>\n",
       "      <td>0</td>\n",
       "      <td>0</td>\n",
       "      <td>0</td>\n",
       "      <td>0</td>\n",
       "      <td>1</td>\n",
       "      <td>0.82</td>\n",
       "      <td>...</td>\n",
       "      <td>1</td>\n",
       "      <td>0</td>\n",
       "      <td>False</td>\n",
       "      <td>False</td>\n",
       "      <td>False</td>\n",
       "      <td>True</td>\n",
       "      <td>False</td>\n",
       "      <td>False</td>\n",
       "      <td>True</td>\n",
       "      <td>False</td>\n",
       "    </tr>\n",
       "    <tr>\n",
       "      <th>420</th>\n",
       "      <td>0</td>\n",
       "      <td>160.0</td>\n",
       "      <td>120.00</td>\n",
       "      <td>1</td>\n",
       "      <td>0</td>\n",
       "      <td>0</td>\n",
       "      <td>0</td>\n",
       "      <td>0</td>\n",
       "      <td>0</td>\n",
       "      <td>0.83</td>\n",
       "      <td>...</td>\n",
       "      <td>1</td>\n",
       "      <td>0</td>\n",
       "      <td>True</td>\n",
       "      <td>False</td>\n",
       "      <td>False</td>\n",
       "      <td>True</td>\n",
       "      <td>False</td>\n",
       "      <td>False</td>\n",
       "      <td>True</td>\n",
       "      <td>False</td>\n",
       "    </tr>\n",
       "    <tr>\n",
       "      <th>421</th>\n",
       "      <td>1</td>\n",
       "      <td>175.0</td>\n",
       "      <td>115.00</td>\n",
       "      <td>1</td>\n",
       "      <td>1</td>\n",
       "      <td>0</td>\n",
       "      <td>0</td>\n",
       "      <td>0</td>\n",
       "      <td>1</td>\n",
       "      <td>1.51</td>\n",
       "      <td>...</td>\n",
       "      <td>1</td>\n",
       "      <td>1</td>\n",
       "      <td>True</td>\n",
       "      <td>False</td>\n",
       "      <td>False</td>\n",
       "      <td>True</td>\n",
       "      <td>False</td>\n",
       "      <td>False</td>\n",
       "      <td>True</td>\n",
       "      <td>False</td>\n",
       "    </tr>\n",
       "    <tr>\n",
       "      <th>422</th>\n",
       "      <td>1</td>\n",
       "      <td>180.0</td>\n",
       "      <td>97.00</td>\n",
       "      <td>1</td>\n",
       "      <td>0</td>\n",
       "      <td>0</td>\n",
       "      <td>0</td>\n",
       "      <td>0</td>\n",
       "      <td>1</td>\n",
       "      <td>1.12</td>\n",
       "      <td>...</td>\n",
       "      <td>1</td>\n",
       "      <td>0</td>\n",
       "      <td>True</td>\n",
       "      <td>False</td>\n",
       "      <td>False</td>\n",
       "      <td>True</td>\n",
       "      <td>False</td>\n",
       "      <td>False</td>\n",
       "      <td>True</td>\n",
       "      <td>False</td>\n",
       "    </tr>\n",
       "  </tbody>\n",
       "</table>\n",
       "<p>412 rows × 28 columns</p>\n",
       "</div>"
      ],
      "text/plain": [
       "     gender  pt_height  weight  htn  diabetes  chf  cad  stroke_tia  osa  \\\n",
       "0         1      182.9   88.30    1         0    1    0           1    0   \n",
       "1         0      175.3  112.90    1         1    0    0           0    0   \n",
       "2         1      179.1  110.22    1         0    0    1           0    0   \n",
       "3         0      165.0  145.00    1         0    0    0           0    1   \n",
       "4         1      183.0   86.00    0         0    0    0           0    0   \n",
       "..      ...        ...     ...  ...       ...  ...  ...         ...  ...   \n",
       "418       1      175.0   75.00    1         1    1    1           0    0   \n",
       "419       1      180.3  127.00    1         0    0    0           0    1   \n",
       "420       0      160.0  120.00    1         0    0    0           0    0   \n",
       "421       1      175.0  115.00    1         1    0    0           0    1   \n",
       "422       1      180.0   97.00    1         0    0    0           0    1   \n",
       "\n",
       "     creatinine  ...  recurrence  cont_monitor  is_training  race_1  race_2  \\\n",
       "0          0.82  ...           0             1        False   False   False   \n",
       "1          0.89  ...           0             0        False   False   False   \n",
       "2          0.78  ...           0             1        False   False   False   \n",
       "3          0.76  ...           0             0         True   False   False   \n",
       "4          1.04  ...           0             0        False   False   False   \n",
       "..          ...  ...         ...           ...          ...     ...     ...   \n",
       "418        1.80  ...           1             1        False   False   False   \n",
       "419        0.82  ...           1             0        False   False   False   \n",
       "420        0.83  ...           1             0         True   False   False   \n",
       "421        1.51  ...           1             1         True   False   False   \n",
       "422        1.12  ...           1             0         True   False   False   \n",
       "\n",
       "     race_4  race_6  ethnicity_0  ethnicity_1  ethnicity_2  \n",
       "0      True   False        False         True        False  \n",
       "1      True   False        False         True        False  \n",
       "2      True   False        False         True        False  \n",
       "3      True   False        False         True        False  \n",
       "4      True   False        False         True        False  \n",
       "..      ...     ...          ...          ...          ...  \n",
       "418    True   False        False         True        False  \n",
       "419    True   False        False         True        False  \n",
       "420    True   False        False         True        False  \n",
       "421    True   False        False         True        False  \n",
       "422    True   False        False         True        False  \n",
       "\n",
       "[412 rows x 28 columns]"
      ]
     },
     "execution_count": 5,
     "metadata": {},
     "output_type": "execute_result"
    }
   ],
   "source": [
    "from sklearn.preprocessing import OneHotEncoder\n",
    "\n",
    "outcomes = [col for col in vandy.columns if 'recur' in col.lower()]\n",
    "valve_dx_cols = [col for col in vandy.columns if 'type_valve_dx' in col.lower()]\n",
    "ablation_cols = [col for col in vandy.columns if 'ablation' in col.lower()]\n",
    "    \n",
    "vandy = vandy.drop(valve_dx_cols + ablation_cols, axis = 1).drop(['study_id', 'mri_ct', 'date_of_recur', 'time_to_recur', 'activations'], axis = 1)\n",
    "\n",
    "def one_hot_encode(original_dataframe, feature_to_encode):\n",
    "    original_dataframe[feature_to_encode] = original_dataframe[feature_to_encode].astype(str)\n",
    "    dummies = pd.get_dummies(original_dataframe[[feature_to_encode]])\n",
    "    res = pd.concat([original_dataframe, dummies], axis=1)\n",
    "    res = res.drop([feature_to_encode], axis=1)\n",
    "    return(res) \n",
    "\n",
    "features_to_one_hot_encode = ['race', 'ethnicity']\n",
    "for feature in features_to_one_hot_encode:\n",
    "    vandy = one_hot_encode(vandy, feature)\n",
    "\n",
    "features_to_binarize = vandy.select_dtypes('int64').columns\n",
    "vandy"
   ]
  },
  {
   "cell_type": "markdown",
   "id": "80eac5bf",
   "metadata": {},
   "source": [
    "# Optimizing Activations DF"
   ]
  },
  {
   "cell_type": "code",
   "execution_count": 6,
   "id": "9cc12722",
   "metadata": {},
   "outputs": [],
   "source": [
    "correlation_matrix = activations_df.corr()\n",
    "\n",
    "redundant_columns = []\n",
    "for i in range(len(correlation_matrix.columns)):\n",
    "    for j in range(i+1, len(correlation_matrix.columns)):\n",
    "        if abs(correlation_matrix.iloc[i, j]) > 0.8:  # Adjust the threshold as needed\n",
    "            #redundant_columns.append((correlation_matrix.columns[i], correlation_matrix.columns[j]))\n",
    "            redundant_columns.append(correlation_matrix.columns[j])"
   ]
  },
  {
   "cell_type": "code",
   "execution_count": 7,
   "id": "c01ffb0b",
   "metadata": {},
   "outputs": [
    {
     "data": {
      "image/png": "[encoded data removed]",
      "text/plain": [
       "<Figure size 800x600 with 1 Axes>"
      ]
     },
     "metadata": {},
     "output_type": "display_data"
    }
   ],
   "source": [
    "import pandas as pd\n",
    "import numpy as np\n",
    "import seaborn as sns\n",
    "import matplotlib.pyplot as plt\n",
    "from sklearn.decomposition import PCA\n",
    "\n",
    "# Assuming activations_df is your DataFrame with activations\n",
    "\n",
    "# Perform PCA directly on the original data\n",
    "pca = PCA()\n",
    "pca.fit(activations_df)\n",
    "\n",
    "# Calculate the explained variance ratio\n",
    "explained_variance_ratio = pca.explained_variance_ratio_[:20]  # Slice to include only the first 20 elements\n",
    "\n",
    "# Plot the scree plot using seaborn\n",
    "plt.figure(figsize=(8, 6))\n",
    "sns.barplot(x=np.arange(1, len(explained_variance_ratio) + 1), y=explained_variance_ratio, color='skyblue')\n",
    "plt.title('Scree Plot (First 20 Principal Components)')\n",
    "plt.xlabel('Principal Component')\n",
    "plt.ylabel('Explained Variance Ratio')\n",
    "plt.xticks(np.arange(1, len(explained_variance_ratio) + 1))\n",
    "plt.grid(True)\n",
    "plt.show()"
   ]
  },
  {
   "cell_type": "markdown",
   "id": "75b8fec1",
   "metadata": {},
   "source": [
    "## ML-based Feature Selection"
   ]
  },
  {
   "cell_type": "code",
   "execution_count": 7,
   "id": "7e627a13",
   "metadata": {},
   "outputs": [],
   "source": [
    "activations_model = pd.concat([activations_df, vandy.reset_index(drop = True)[['is_training', 'recurrence']]], axis = 1)\n",
    "train = activations_model[activations_model['is_training']].drop(['is_training'], axis = 1).reset_index(drop=True)\n",
    "test = activations_model[~activations_model['is_training']].drop(['is_training'], axis = 1).reset_index(drop=True)\n",
    "X_train = train.drop(['recurrence'], axis = 1)\n",
    "y_train = train['recurrence']\n",
    "X_test = test.drop(['recurrence'], axis = 1)\n",
    "y_test = test['recurrence']"
   ]
  },
  {
   "cell_type": "code",
   "execution_count": 8,
   "id": "bf295c37",
   "metadata": {},
   "outputs": [
    {
     "data": {
      "text/plain": [
       "<sklearn.metrics._plot.roc_curve.RocCurveDisplay at 0x7f8905deddd0>"
      ]
     },
     "execution_count": 8,
     "metadata": {},
     "output_type": "execute_result"
    },
    {
     "data": {
      "image/png": "[encoded data removed]",
      "text/plain": [
       "<Figure size 640x480 with 1 Axes>"
      ]
     },
     "metadata": {},
     "output_type": "display_data"
    }
   ],
   "source": [
    "from sklearn.ensemble import RandomForestClassifier\n",
    "from sklearn.model_selection import GridSearchCV\n",
    "from sklearn.metrics import RocCurveDisplay\n",
    "\n",
    "rfc=RandomForestClassifier(random_state=42)\n",
    "param_grid = { \n",
    "    'n_estimators': [1, 20, 100],\n",
    "    'max_features': ['log2'],\n",
    "    'max_depth' : [3,5,7],\n",
    "    'criterion' :['entropy']\n",
    "}\n",
    "rfc = GridSearchCV(estimator=rfc, param_grid=param_grid, cv = 5)\n",
    "rfc.fit(X_train, y_train)\n",
    "RocCurveDisplay.from_estimator(rfc.best_estimator_, X_test, y_test)"
   ]
  },
  {
   "cell_type": "code",
   "execution_count": null,
   "id": "3f51f6a2",
   "metadata": {},
   "outputs": [],
   "source": [
    "importances = forest.feature_importances_"
   ]
  },
  {
   "cell_type": "code",
   "execution_count": null,
   "id": "98fb5453",
   "metadata": {},
   "outputs": [],
   "source": [
    "import xgboost as xgb\n",
    "\n",
    "#dtrain_clf = xgb.DMatrix(X_train, y_train, enable_categorical=True)\n",
    "#dtest_clf = xgb.DMatrix(X_test, y_test, enable_categorical=True)\n",
    "\n",
    "# Train a model using the scikit-learn API\n",
    "xgb_classifier = xgb.XGBClassifier(n_estimators=100, \n",
    "                                   objective='binary:logistic', \n",
    "                                   tree_method='hist', eta=0.1, max_depth=3, enable_categorical=True)\n",
    "xgb_classifier.fit(X_train, y_train)\n",
    "\n",
    "# Convert the model to a native API model\n",
    "model = xgb_classifier.get_booster()"
   ]
  },
  {
   "cell_type": "code",
   "execution_count": null,
   "id": "ec2398dd",
   "metadata": {},
   "outputs": [],
   "source": [
    "from sklearn.metrics import RocCurveDisplay\n",
    "RocCurveDisplay.from_estimator(xgb_classifier, X_test, y_test)\n",
    "#xgb_classifier.predict(X_test)"
   ]
  },
  {
   "cell_type": "markdown",
   "id": "fc8a1bbf",
   "metadata": {},
   "source": [
    "# Modeling"
   ]
  },
  {
   "cell_type": "markdown",
   "id": "4efe6216",
   "metadata": {},
   "source": [
    "## Preprocessing"
   ]
  },
  {
   "cell_type": "code",
   "execution_count": null,
   "id": "f5c7617d",
   "metadata": {},
   "outputs": [],
   "source": [
    "# PICK ONE\n",
    "model_matrix = pd.concat([vandy.reset_index(drop = True), activations_df], axis = 1)\n",
    "model_matrix = model_matrix.drop(redundant_columns, axis = 1)"
   ]
  },
  {
   "cell_type": "code",
   "execution_count": null,
   "id": "d8eebd4f",
   "metadata": {},
   "outputs": [],
   "source": [
    "#model_matrix = vandy.reset_index(drop = True) #purely clinical classifier"
   ]
  },
  {
   "cell_type": "markdown",
   "id": "c1088460",
   "metadata": {},
   "source": [
    "## Test-Train Split"
   ]
  },
  {
   "cell_type": "code",
   "execution_count": null,
   "id": "326b8d4b",
   "metadata": {},
   "outputs": [],
   "source": [
    "train = model_matrix[model_matrix['is_training']].drop(['is_training'], axis = 1).reset_index(drop=True)\n",
    "test = model_matrix[~model_matrix['is_training']].drop(['is_training'], axis = 1).reset_index(drop=True)\n",
    "X_train = train.drop(['recurrence'], axis = 1)\n",
    "y_train = train['recurrence']\n",
    "X_test = test.drop(['recurrence'], axis = 1)\n",
    "y_test = test['recurrence']"
   ]
  },
  {
   "cell_type": "markdown",
   "id": "b338faed",
   "metadata": {},
   "source": [
    "## KNN"
   ]
  },
  {
   "cell_type": "code",
   "execution_count": null,
   "id": "01bb77b9",
   "metadata": {},
   "outputs": [],
   "source": [
    "from sklearn.preprocessing import StandardScaler\n",
    "\n",
    "from sklearn.ensemble import GradientBoostingClassifier\n",
    "from sklearn.model_selection import GridSearchCV\n",
    "\n",
    "\n",
    "for column in X_test.columns:\n",
    "    for idx, value in X_test[column].items():\n",
    "        try:\n",
    "            float(value)\n",
    "        except ValueError:\n",
    "            print(f\"Row index: {idx}, Column: {column}, Value: {value}\")"
   ]
  },
  {
   "cell_type": "code",
   "execution_count": null,
   "id": "bf9af26f",
   "metadata": {},
   "outputs": [],
   "source": [
    "clinical_cols = [col for col in X_train.columns if 'activation' not in col]\n",
    "scaler = StandardScaler()\n",
    "scaler.fit(X_train[clinical_cols])\n",
    "X_train[clinical_cols] = scaler.fit_transform(X_train[clinical_cols])\n",
    "X_test[clinical_cols] = scaler.transform(X_test[clinical_cols])"
   ]
  },
  {
   "cell_type": "code",
   "execution_count": null,
   "id": "6eebb3fe",
   "metadata": {},
   "outputs": [],
   "source": [
    "from sklearn.neighbors import KNeighborsClassifier\n",
    "from sklearn.metrics import RocCurveDisplay\n",
    "\n",
    "knn = KNeighborsClassifier()\n",
    "param_grid = dict(n_neighbors=list(range(1, min(X_test.shape[0], X_train.shape[0])//2)))\n",
    "grid = GridSearchCV(knn, param_grid, cv=10, scoring = 'roc_auc', return_train_score=False)\n",
    "knn = grid.fit(X_train, y_train)\n",
    "\n",
    "RocCurveDisplay.from_estimator(knn.best_estimator_, X_test, y_test)"
   ]
  }
 ],
 "metadata": {
  "kernelspec": {
   "display_name": "Python 3 (ipykernel)",
   "language": "python",
   "name": "python3"
  },
  "language_info": {
   "codemirror_mode": {
    "name": "ipython",
    "version": 3
   },
   "file_extension": ".py",
   "mimetype": "text/x-python",
   "name": "python",
   "nbconvert_exporter": "python",
   "pygments_lexer": "ipython3",
   "version": "3.11.3"
  }
 },
 "nbformat": 4,
 "nbformat_minor": 5
}
